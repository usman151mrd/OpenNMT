{
 "cells": [
  {
   "cell_type": "code",
   "execution_count": 1,
   "metadata": {},
   "outputs": [],
   "source": [
    "import string\n",
    "import re\n",
    "from pickle import dump\n",
    "from unicodedata import normalize\n",
    "from numpy import array\n",
    "from pickle import load\n",
    "from numpy.random import rand\n",
    "from numpy.random import shuffle\n",
    "from pickle import load\n",
    "from numpy import array\n",
    "from keras.preprocessing.text import Tokenizer\n",
    "from keras.preprocessing.sequence import pad_sequences\n",
    "from keras.utils import to_categorical\n",
    "from keras.utils.vis_utils import plot_model\n",
    "from keras.models import Sequential\n",
    "from keras.layers import LSTM\n",
    "from keras.layers import Dense\n",
    "from keras.layers import Embedding\n",
    "from keras.layers import RepeatVector\n",
    "from keras.layers import TimeDistributed\n",
    "from keras.callbacks import ModelCheckpoint"
   ]
  },
  {
   "cell_type": "code",
   "execution_count": 2,
   "metadata": {},
   "outputs": [],
   "source": [
    "\n",
    "def load_doc(filename):\n",
    "    # open the file as read only\n",
    "    file = open(filename, mode='rt', encoding='utf-8')\n",
    "    # read all text\n",
    "    text = file.read()\n",
    "    # close the file\n",
    "    file.close()\n",
    "    return text"
   ]
  },
  {
   "cell_type": "code",
   "execution_count": 3,
   "metadata": {},
   "outputs": [],
   "source": [
    "def to_pairs(doc):\n",
    "    lines = doc.strip().split('\\n')\n",
    "    pairs = [line.split('\\t') for line in  lines]\n",
    "    return pairs"
   ]
  },
  {
   "cell_type": "code",
   "execution_count": 4,
   "metadata": {},
   "outputs": [],
   "source": [
    "# clean a list of lines\n",
    "def clean_pairs(lines):\n",
    "    cleaned = list()\n",
    "    # prepare regex for char filtering\n",
    "    re_print = re.compile('[^%s]' % re.escape(string.printable))\n",
    "    # prepare translation table for removing punctuation\n",
    "    table = str.maketrans('', '', string.punctuation)\n",
    "    for pair in lines:\n",
    "        clean_pair = list()\n",
    "        for line in pair:\n",
    "            # normalize unicode characters\n",
    "            line = normalize('NFD', line).encode('ascii', 'ignore')\n",
    "            line = line.decode('UTF-8')\n",
    "            # tokenize on white space\n",
    "            line = line.split()\n",
    "            # convert to lowercase\n",
    "            line = [word.lower() for word in line]\n",
    "            # remove punctuation from each token\n",
    "            line = [word.translate(table) for word in line]\n",
    "            # remove non-printable chars form each token\n",
    "            line = [re_print.sub('', w) for w in line]\n",
    "            # remove tokens with numbers in them\n",
    "            line = [word for word in line if word.isalpha()]\n",
    "            # store as string\n",
    "            clean_pair.append(' '.join(line))\n",
    "        cleaned.append(clean_pair)\n",
    "    return array(cleaned)"
   ]
  },
  {
   "cell_type": "code",
   "execution_count": 5,
   "metadata": {},
   "outputs": [],
   "source": [
    "def save_clean_data(sentences, filename):\n",
    "    dump(sentences, open(filename, 'wb'))\n",
    "    print('Saved: %s' % filename)"
   ]
  },
  {
   "cell_type": "code",
   "execution_count": 6,
   "metadata": {},
   "outputs": [
    {
     "data": {
      "text/html": [
       "<div>\n",
       "<style scoped>\n",
       "    .dataframe tbody tr th:only-of-type {\n",
       "        vertical-align: middle;\n",
       "    }\n",
       "\n",
       "    .dataframe tbody tr th {\n",
       "        vertical-align: top;\n",
       "    }\n",
       "\n",
       "    .dataframe thead th {\n",
       "        text-align: right;\n",
       "    }\n",
       "</style>\n",
       "<table border=\"1\" class=\"dataframe\">\n",
       "  <thead>\n",
       "    <tr style=\"text-align: right;\">\n",
       "      <th></th>\n",
       "      <th>english</th>\n",
       "      <th>french</th>\n",
       "      <th>description</th>\n",
       "    </tr>\n",
       "  </thead>\n",
       "  <tbody>\n",
       "    <tr>\n",
       "      <th>0</th>\n",
       "      <td>Go.</td>\n",
       "      <td>Va !</td>\n",
       "      <td>CC-BY 2.0 (France) Attribution: tatoeba.org #2...</td>\n",
       "    </tr>\n",
       "    <tr>\n",
       "      <th>1</th>\n",
       "      <td>Go.</td>\n",
       "      <td>Marche.</td>\n",
       "      <td>CC-BY 2.0 (France) Attribution: tatoeba.org #2...</td>\n",
       "    </tr>\n",
       "    <tr>\n",
       "      <th>2</th>\n",
       "      <td>Go.</td>\n",
       "      <td>Bouge !</td>\n",
       "      <td>CC-BY 2.0 (France) Attribution: tatoeba.org #2...</td>\n",
       "    </tr>\n",
       "    <tr>\n",
       "      <th>3</th>\n",
       "      <td>Hi.</td>\n",
       "      <td>Salut !</td>\n",
       "      <td>CC-BY 2.0 (France) Attribution: tatoeba.org #5...</td>\n",
       "    </tr>\n",
       "    <tr>\n",
       "      <th>4</th>\n",
       "      <td>Hi.</td>\n",
       "      <td>Salut.</td>\n",
       "      <td>CC-BY 2.0 (France) Attribution: tatoeba.org #5...</td>\n",
       "    </tr>\n",
       "  </tbody>\n",
       "</table>\n",
       "</div>"
      ],
      "text/plain": [
       "  english   french                                        description\n",
       "0     Go.     Va !  CC-BY 2.0 (France) Attribution: tatoeba.org #2...\n",
       "1     Go.  Marche.  CC-BY 2.0 (France) Attribution: tatoeba.org #2...\n",
       "2     Go.  Bouge !  CC-BY 2.0 (France) Attribution: tatoeba.org #2...\n",
       "3     Hi.  Salut !  CC-BY 2.0 (France) Attribution: tatoeba.org #5...\n",
       "4     Hi.   Salut.  CC-BY 2.0 (France) Attribution: tatoeba.org #5..."
      ]
     },
     "execution_count": 6,
     "metadata": {},
     "output_type": "execute_result"
    }
   ],
   "source": [
    "# load dataset\n",
    "filename = 'dataset/fra-eng/fra.txt'\n",
    "import pandas as pd\n",
    "data = pd.read_csv(filename,sep='\\t',header=None, names = ['english','french','description'])\n",
    "data.head()"
   ]
  },
  {
   "cell_type": "code",
   "execution_count": 7,
   "metadata": {},
   "outputs": [],
   "source": [
    "final = data.copy()"
   ]
  },
  {
   "cell_type": "code",
   "execution_count": 8,
   "metadata": {},
   "outputs": [],
   "source": [
    "del final['description']"
   ]
  },
  {
   "cell_type": "code",
   "execution_count": 9,
   "metadata": {},
   "outputs": [],
   "source": [
    "listdata = final.values.tolist()"
   ]
  },
  {
   "cell_type": "code",
   "execution_count": 10,
   "metadata": {},
   "outputs": [
    {
     "data": {
      "text/plain": [
       "[['Go.', 'Va !'],\n",
       " ['Go.', 'Marche.'],\n",
       " ['Go.', 'Bouge !'],\n",
       " ['Hi.', 'Salut !'],\n",
       " ['Hi.', 'Salut.'],\n",
       " ['Run!', 'Cours\\u202f!'],\n",
       " ['Run!', 'Courez\\u202f!'],\n",
       " ['Run!', 'Prenez vos jambes à vos cous !'],\n",
       " ['Run!', 'File !'],\n",
       " ['Run!', 'Filez !']]"
      ]
     },
     "execution_count": 10,
     "metadata": {},
     "output_type": "execute_result"
    }
   ],
   "source": [
    "listdata[:10]"
   ]
  },
  {
   "cell_type": "code",
   "execution_count": 11,
   "metadata": {},
   "outputs": [
    {
     "name": "stdout",
     "output_type": "stream",
     "text": [
      "Saved: english-french.pkl\n",
      "[go] => [va]\n",
      "[go] => [marche]\n",
      "[go] => [bouge]\n",
      "[hi] => [salut]\n",
      "[hi] => [salut]\n",
      "[run] => [cours]\n",
      "[run] => [courez]\n",
      "[run] => [prenez vos jambes a vos cous]\n",
      "[run] => [file]\n",
      "[run] => [filez]\n",
      "[run] => [cours]\n",
      "[run] => [fuyez]\n",
      "[run] => [fuyons]\n",
      "[run] => [cours]\n",
      "[run] => [courez]\n",
      "[run] => [prenez vos jambes a vos cous]\n",
      "[run] => [file]\n",
      "[run] => [filez]\n",
      "[run] => [cours]\n",
      "[run] => [fuyez]\n",
      "[run] => [fuyons]\n",
      "[who] => [qui]\n",
      "[wow] => [ca alors]\n",
      "[fire] => [au feu]\n",
      "[help] => [a laide]\n",
      "[jump] => [saute]\n",
      "[jump] => [saute]\n",
      "[stop] => [ca suffit]\n",
      "[stop] => [stop]\n",
      "[stop] => [arretetoi]\n",
      "[wait] => [attends]\n",
      "[wait] => [attendez]\n",
      "[wait] => [attendez]\n",
      "[wait] => [attends]\n",
      "[wait] => [attendez]\n",
      "[wait] => [attends]\n",
      "[wait] => [attendez]\n",
      "[begin] => [commencez]\n",
      "[begin] => [commence]\n",
      "[go on] => [poursuis]\n",
      "[go on] => [continuez]\n",
      "[go on] => [poursuivez]\n",
      "[hello] => [bonjour]\n",
      "[hello] => [salut]\n",
      "[i see] => [je comprends]\n",
      "[i see] => [aha]\n",
      "[i try] => [jessaye]\n",
      "[i won] => [jai gagne]\n",
      "[i won] => [je lai emporte]\n",
      "[i won] => [jai gagne]\n",
      "[oh no] => [oh non]\n",
      "[relax] => [calmetoi]\n",
      "[relax] => [detendstoi]\n",
      "[relax] => [detendezvous]\n",
      "[relax] => [relaxe max]\n",
      "[relax] => [cool raoul]\n",
      "[relax] => [du calme]\n",
      "[relax] => [relaxe]\n",
      "[relax] => [calmezvous]\n",
      "[relax] => [detendstoi]\n",
      "[relax] => [detendstoi]\n",
      "[relax] => [du calme]\n",
      "[relax] => [tranquille]\n",
      "[smile] => [souriez]\n",
      "[smile] => [souris pour la camera]\n",
      "[smile] => [souriez]\n",
      "[attack] => [attaque]\n",
      "[attack] => [attaquez]\n",
      "[attack] => [a lattaque]\n",
      "[cheers] => [sante]\n",
      "[cheers] => [a votre sante]\n",
      "[cheers] => [merci]\n",
      "[cheers] => [tchintchin]\n",
      "[eat it] => [mangezle]\n",
      "[eat it] => [mangele]\n",
      "[get up] => [levetoi]\n",
      "[get up] => [levetoi]\n",
      "[go now] => [va maintenant]\n",
      "[go now] => [allezy maintenant]\n",
      "[go now] => [vasy maintenant]\n",
      "[got it] => [jai pige]\n",
      "[got it] => [compris]\n",
      "[got it] => [aha]\n",
      "[got it] => [pige]\n",
      "[got it] => [compris]\n",
      "[got it] => [tas capte]\n",
      "[hop in] => [monte]\n",
      "[hop in] => [montez]\n",
      "[hug me] => [serremoi dans tes bras]\n",
      "[hug me] => [serrezmoi dans vos bras]\n",
      "[i fell] => [je suis tombee]\n",
      "[i fell] => [je suis tombe]\n",
      "[i fled] => [jai fui]\n",
      "[i knit] => [je tricote]\n",
      "[i know] => [je sais]\n",
      "[i left] => [je suis parti]\n",
      "[i left] => [je suis partie]\n",
      "[i lied] => [jai menti]\n",
      "[i lost] => [jai perdu]\n",
      "[i paid] => [je payais]\n"
     ]
    }
   ],
   "source": [
    "clean_pairs = clean_pairs(listdata)\n",
    "# save clean pairs to file\n",
    "save_clean_data(clean_pairs, 'english-french.pkl')\n",
    "# spot check\n",
    "for i in range(100):\n",
    "    print('[%s] => [%s]' % (clean_pairs[i,0], clean_pairs[i,1]))"
   ]
  },
  {
   "cell_type": "code",
   "execution_count": 12,
   "metadata": {},
   "outputs": [
    {
     "name": "stdout",
     "output_type": "stream",
     "text": [
      "Saved: english-french-both.pkl\n",
      "Saved: english-french-train.pkl\n",
      "Saved: english-french-test.pkl\n"
     ]
    }
   ],
   "source": [
    "raw_dataset = clean_pairs\n",
    " \n",
    "# reduce dataset size\n",
    "n_sentences = 20000\n",
    "dataset = raw_dataset[:n_sentences, :]\n",
    "# random shuffle\n",
    "shuffle(dataset)\n",
    "# split into train/test\n",
    "train, test = dataset[:17000], dataset[17000:]\n",
    "# save\n",
    "save_clean_data(dataset, 'english-french-both.pkl')\n",
    "save_clean_data(train, 'english-french-train.pkl')\n",
    "save_clean_data(test, 'english-french-test.pkl')"
   ]
  },
  {
   "cell_type": "code",
   "execution_count": 13,
   "metadata": {},
   "outputs": [
    {
     "data": {
      "text/plain": [
       "(185583, 2)"
      ]
     },
     "execution_count": 13,
     "metadata": {},
     "output_type": "execute_result"
    }
   ],
   "source": [
    "raw_dataset.shape"
   ]
  },
  {
   "cell_type": "code",
   "execution_count": 14,
   "metadata": {},
   "outputs": [],
   "source": [
    "def create_tokenizer(lines):\n",
    "    tokenizer = Tokenizer()\n",
    "    tokenizer.fit_on_texts(lines)\n",
    "    return tokenizer\n"
   ]
  },
  {
   "cell_type": "code",
   "execution_count": 15,
   "metadata": {},
   "outputs": [],
   "source": [
    "def max_length(lines):\n",
    "    return max(len(line.split()) for line in lines)"
   ]
  },
  {
   "cell_type": "code",
   "execution_count": 16,
   "metadata": {},
   "outputs": [],
   "source": [
    "from keras.preprocessing.text import Tokenizer"
   ]
  },
  {
   "cell_type": "code",
   "execution_count": 17,
   "metadata": {},
   "outputs": [
    {
     "name": "stdout",
     "output_type": "stream",
     "text": [
      "English Vocabulary Size: 3420\n",
      "English Max Length: 5\n",
      "french Vocabulary Size: 6942\n",
      "french Max Length: 11\n"
     ]
    }
   ],
   "source": [
    "eng_tokenizer = create_tokenizer(dataset[:, 0])\n",
    "eng_vocab_size = len(eng_tokenizer.word_index) + 1\n",
    "eng_length = max_length(dataset[:, 0])\n",
    "print('English Vocabulary Size: %d' % eng_vocab_size)\n",
    "print('English Max Length: %d' % (eng_length))\n",
    "# prepare german tokenizer\n",
    "ger_tokenizer = create_tokenizer(dataset[:, 1])\n",
    "ger_vocab_size = len(ger_tokenizer.word_index) + 1\n",
    "ger_length = max_length(dataset[:, 1])\n",
    "print('french Vocabulary Size: %d' % ger_vocab_size)\n",
    "print('french Max Length: %d' % (ger_length))"
   ]
  },
  {
   "cell_type": "code",
   "execution_count": 18,
   "metadata": {},
   "outputs": [],
   "source": [
    "def encode_sequences(tokenizer, length, lines):\n",
    "    # integer encode sequences\n",
    "    X = tokenizer.texts_to_sequences(lines)\n",
    "    # pad sequences with 0 values\n",
    "    X = pad_sequences(X, maxlen=length, padding='post')\n",
    "    return X"
   ]
  },
  {
   "cell_type": "code",
   "execution_count": 19,
   "metadata": {},
   "outputs": [],
   "source": [
    "from tensorflow.keras.utils import to_categorical"
   ]
  },
  {
   "cell_type": "code",
   "execution_count": 20,
   "metadata": {},
   "outputs": [],
   "source": [
    "def encode_output(sequences, vocab_size):\n",
    "    ylist = list()\n",
    "    for sequence in sequences:\n",
    "        encoded = to_categorical(sequence, num_classes=vocab_size)\n",
    "        ylist.append(encoded)\n",
    "    y = array(ylist)\n",
    "    y = y.reshape(sequences.shape[0], sequences.shape[1], vocab_size)\n",
    "    return y"
   ]
  },
  {
   "cell_type": "code",
   "execution_count": 21,
   "metadata": {},
   "outputs": [],
   "source": [
    "# prepare training data\n",
    "trainX = encode_sequences(ger_tokenizer, ger_length, train[:, 1])\n",
    "trainY = encode_sequences(eng_tokenizer, eng_length, train[:, 0])\n",
    "trainY = encode_output(trainY, eng_vocab_size)\n",
    "# prepare validation data\n",
    "testX = encode_sequences(ger_tokenizer, ger_length, test[:, 1])\n",
    "testY = encode_sequences(eng_tokenizer, eng_length, test[:, 0])\n",
    "testY = encode_output(testY, eng_vocab_size)"
   ]
  },
  {
   "cell_type": "code",
   "execution_count": 22,
   "metadata": {},
   "outputs": [
    {
     "data": {
      "text/plain": [
       "array([30, 23, 10,  9,  0,  0,  0,  0,  0,  0,  0], dtype=int32)"
      ]
     },
     "execution_count": 22,
     "metadata": {},
     "output_type": "execute_result"
    }
   ],
   "source": [
    "trainX[10,:]"
   ]
  },
  {
   "cell_type": "code",
   "execution_count": 23,
   "metadata": {},
   "outputs": [],
   "source": [
    "def define_model(src_vocab, tar_vocab, src_timesteps, tar_timesteps, n_units):\n",
    "    model = Sequential()\n",
    "    model.add(Embedding(src_vocab, n_units, input_length=src_timesteps, mask_zero=True))\n",
    "    model.add(LSTM(n_units))\n",
    "    model.add(RepeatVector(tar_timesteps))\n",
    "    model.add(LSTM(n_units, return_sequences=True))\n",
    "    model.add(TimeDistributed(Dense(tar_vocab, activation='softmax')))\n",
    "    return model"
   ]
  },
  {
   "cell_type": "code",
   "execution_count": 24,
   "metadata": {},
   "outputs": [],
   "source": [
    "model = define_model(ger_vocab_size, eng_vocab_size, ger_length, eng_length, 256)\n",
    "model.compile(optimizer='adam', loss='categorical_crossentropy')\n",
    "\n",
    "# summarize defined model"
   ]
  },
  {
   "cell_type": "code",
   "execution_count": 25,
   "metadata": {},
   "outputs": [
    {
     "name": "stdout",
     "output_type": "stream",
     "text": [
      "Model: \"sequential\"\n",
      "_________________________________________________________________\n",
      "Layer (type)                 Output Shape              Param #   \n",
      "=================================================================\n",
      "embedding (Embedding)        (None, 11, 256)           1777152   \n",
      "_________________________________________________________________\n",
      "lstm (LSTM)                  (None, 256)               525312    \n",
      "_________________________________________________________________\n",
      "repeat_vector (RepeatVector) (None, 5, 256)            0         \n",
      "_________________________________________________________________\n",
      "lstm_1 (LSTM)                (None, 5, 256)            525312    \n",
      "_________________________________________________________________\n",
      "time_distributed (TimeDistri (None, 5, 3420)           878940    \n",
      "=================================================================\n",
      "Total params: 3,706,716\n",
      "Trainable params: 3,706,716\n",
      "Non-trainable params: 0\n",
      "_________________________________________________________________\n",
      "None\n"
     ]
    }
   ],
   "source": [
    "print(model.summary())"
   ]
  },
  {
   "cell_type": "code",
   "execution_count": 26,
   "metadata": {},
   "outputs": [
    {
     "data": {
      "image/png": "[encoded data removed]",
      "text/plain": [
       "<IPython.core.display.Image object>"
      ]
     },
     "execution_count": 26,
     "metadata": {},
     "output_type": "execute_result"
    }
   ],
   "source": [
    "plot_model(model, to_file='model_french.png', show_shapes=True)"
   ]
  },
  {
   "cell_type": "code",
   "execution_count": 31,
   "metadata": {},
   "outputs": [
    {
     "name": "stdout",
     "output_type": "stream",
     "text": [
      "Epoch 1/30\n",
      "\n",
      "Epoch 00001: val_loss improved from inf to 1.94878, saving model to model_french.h5\n",
      "266/266 - 21s - loss: 0.2722 - val_loss: 1.9488\n",
      "Epoch 2/30\n",
      "\n",
      "Epoch 00002: val_loss did not improve from 1.94878\n",
      "266/266 - 21s - loss: 0.2524 - val_loss: 1.9527\n",
      "Epoch 3/30\n",
      "\n",
      "Epoch 00003: val_loss did not improve from 1.94878\n",
      "266/266 - 21s - loss: 0.2354 - val_loss: 1.9614\n",
      "Epoch 4/30\n",
      "\n",
      "Epoch 00004: val_loss did not improve from 1.94878\n",
      "266/266 - 21s - loss: 0.2209 - val_loss: 1.9662\n",
      "Epoch 5/30\n",
      "\n",
      "Epoch 00005: val_loss did not improve from 1.94878\n",
      "266/266 - 21s - loss: 0.2095 - val_loss: 1.9781\n",
      "Epoch 6/30\n",
      "\n",
      "Epoch 00006: val_loss did not improve from 1.94878\n",
      "266/266 - 20s - loss: 0.1976 - val_loss: 1.9818\n",
      "Epoch 7/30\n",
      "\n",
      "Epoch 00007: val_loss did not improve from 1.94878\n",
      "266/266 - 21s - loss: 0.1873 - val_loss: 1.9787\n",
      "Epoch 8/30\n",
      "\n",
      "Epoch 00008: val_loss did not improve from 1.94878\n",
      "266/266 - 20s - loss: 0.1773 - val_loss: 1.9999\n",
      "Epoch 9/30\n",
      "\n",
      "Epoch 00009: val_loss did not improve from 1.94878\n",
      "266/266 - 21s - loss: 0.1711 - val_loss: 2.0007\n",
      "Epoch 10/30\n",
      "\n",
      "Epoch 00010: val_loss did not improve from 1.94878\n",
      "266/266 - 20s - loss: 0.1619 - val_loss: 2.0180\n",
      "Epoch 11/30\n",
      "\n",
      "Epoch 00011: val_loss did not improve from 1.94878\n",
      "266/266 - 21s - loss: 0.1561 - val_loss: 2.0285\n",
      "Epoch 12/30\n",
      "\n",
      "Epoch 00012: val_loss did not improve from 1.94878\n",
      "266/266 - 21s - loss: 0.1511 - val_loss: 2.0426\n",
      "Epoch 13/30\n",
      "\n",
      "Epoch 00013: val_loss did not improve from 1.94878\n",
      "266/266 - 22s - loss: 0.1464 - val_loss: 2.0415\n",
      "Epoch 14/30\n",
      "\n",
      "Epoch 00014: val_loss did not improve from 1.94878\n",
      "266/266 - 21s - loss: 0.1414 - val_loss: 2.0478\n",
      "Epoch 15/30\n",
      "\n",
      "Epoch 00015: val_loss did not improve from 1.94878\n",
      "266/266 - 22s - loss: 0.1378 - val_loss: 2.0830\n",
      "Epoch 16/30\n",
      "\n",
      "Epoch 00016: val_loss did not improve from 1.94878\n",
      "266/266 - 21s - loss: 0.1365 - val_loss: 2.0778\n",
      "Epoch 17/30\n",
      "\n",
      "Epoch 00017: val_loss did not improve from 1.94878\n",
      "266/266 - 20s - loss: 0.1311 - val_loss: 2.0800\n",
      "Epoch 18/30\n",
      "\n",
      "Epoch 00018: val_loss did not improve from 1.94878\n",
      "266/266 - 20s - loss: 0.1278 - val_loss: 2.0958\n",
      "Epoch 19/30\n",
      "\n",
      "Epoch 00019: val_loss did not improve from 1.94878\n",
      "266/266 - 20s - loss: 0.1255 - val_loss: 2.0938\n",
      "Epoch 20/30\n",
      "\n",
      "Epoch 00020: val_loss did not improve from 1.94878\n",
      "266/266 - 20s - loss: 0.1229 - val_loss: 2.1053\n",
      "Epoch 21/30\n",
      "\n",
      "Epoch 00021: val_loss did not improve from 1.94878\n",
      "266/266 - 20s - loss: 0.1225 - val_loss: 2.1047\n",
      "Epoch 22/30\n",
      "\n",
      "Epoch 00022: val_loss did not improve from 1.94878\n",
      "266/266 - 20s - loss: 0.1188 - val_loss: 2.1300\n",
      "Epoch 23/30\n",
      "\n",
      "Epoch 00023: val_loss did not improve from 1.94878\n",
      "266/266 - 20s - loss: 0.1174 - val_loss: 2.1303\n",
      "Epoch 24/30\n",
      "\n",
      "Epoch 00024: val_loss did not improve from 1.94878\n",
      "266/266 - 20s - loss: 0.1167 - val_loss: 2.1348\n",
      "Epoch 25/30\n",
      "\n",
      "Epoch 00025: val_loss did not improve from 1.94878\n",
      "266/266 - 20s - loss: 0.1152 - val_loss: 2.1325\n",
      "Epoch 26/30\n",
      "\n",
      "Epoch 00026: val_loss did not improve from 1.94878\n",
      "266/266 - 20s - loss: 0.1140 - val_loss: 2.1444\n",
      "Epoch 27/30\n",
      "\n",
      "Epoch 00027: val_loss did not improve from 1.94878\n",
      "266/266 - 20s - loss: 0.1119 - val_loss: 2.1632\n",
      "Epoch 28/30\n",
      "\n",
      "Epoch 00028: val_loss did not improve from 1.94878\n",
      "266/266 - 20s - loss: 0.1116 - val_loss: 2.1658\n",
      "Epoch 29/30\n",
      "\n",
      "Epoch 00029: val_loss did not improve from 1.94878\n",
      "266/266 - 20s - loss: 0.1096 - val_loss: 2.1706\n",
      "Epoch 30/30\n",
      "\n",
      "Epoch 00030: val_loss did not improve from 1.94878\n",
      "266/266 - 20s - loss: 0.1095 - val_loss: 2.1847\n"
     ]
    }
   ],
   "source": [
    "filename = 'model_french.h5'\n",
    "checkpoint = ModelCheckpoint(filename, monitor='val_loss', verbose=1, save_best_only=True, mode='min')\n",
    "history = model.fit(trainX, trainY, epochs=30, batch_size=64, validation_data=(testX, testY), callbacks=[checkpoint], verbose=2)"
   ]
  },
  {
   "cell_type": "code",
   "execution_count": 28,
   "metadata": {},
   "outputs": [
    {
     "data": {
      "text/plain": [
       "dict_keys(['loss', 'val_loss'])"
      ]
     },
     "execution_count": 28,
     "metadata": {},
     "output_type": "execute_result"
    }
   ],
   "source": [
    "history.history.keys()"
   ]
  },
  {
   "cell_type": "code",
   "execution_count": 29,
   "metadata": {},
   "outputs": [
    {
     "data": {
      "image/png": "[encoded data removed]",
      "text/plain": [
       "<Figure size 432x288 with 1 Axes>"
      ]
     },
     "metadata": {
      "needs_background": "light"
     },
     "output_type": "display_data"
    }
   ],
   "source": [
    "import matplotlib.pyplot as plt\n",
    "plt.plot(history.history['loss'])\n",
    "plt.plot(history.history['val_loss'])\n",
    "plt.title('model loss')\n",
    "plt.ylabel('loss')\n",
    "plt.xlabel('epoch')\n",
    "plt.legend(['train', 'test'], loc='upper left')\n",
    "plt.show()\n"
   ]
  },
  {
   "cell_type": "code",
   "execution_count": 32,
   "metadata": {},
   "outputs": [
    {
     "name": "stdout",
     "output_type": "stream",
     "text": [
      "train\n",
      "src=[jai ete naif], target=[i was naive], predicted=[i was naive]\n",
      "src=[vous navez pas paye], target=[you didnt pay], predicted=[you didnt pay]\n",
      "src=[tom a lair triste], target=[tom sounds sad], predicted=[tom looks sad]\n",
      "src=[tout le monde se taisait], target=[all were silent], predicted=[all were silent]\n",
      "src=[je pourrais essayer], target=[i could try], predicted=[i could try]\n",
      "src=[allume le cierge], target=[light the candle], predicted=[light the candle]\n",
      "src=[tout le monde applaudit], target=[everyone cheered], predicted=[everyone cheered]\n",
      "src=[je hais les chiens], target=[i hate dogs], predicted=[i hate dogs]\n",
      "src=[je ten felicite], target=[congratulations], predicted=[congratulations]\n",
      "src=[estce en vente], target=[is that for sale], predicted=[is that for sale]\n",
      "BLEU-1: 91.34\n",
      "BLEU-2: 88.15\n",
      "BLEU-3: 81.20\n",
      "BLEU-4: 55.35\n",
      "test\n",
      "src=[le potage est froid], target=[the soup is cold], predicted=[the soups cold]\n",
      "src=[nous sommes enneiges], target=[were snowed in], predicted=[were adaptable]\n",
      "src=[tom est fidele], target=[tom is faithful], predicted=[tom is loyal]\n",
      "src=[quelquun a crie], target=[someone screamed], predicted=[everyone coughed]\n",
      "src=[tom adore les tulipes], target=[tom loves tulips], predicted=[tom loves tulips]\n",
      "src=[tom est interne], target=[tom is an intern], predicted=[tom is grim]\n",
      "src=[je deteste lhypocrisie], target=[i hate hypocrisy], predicted=[i hate sundays]\n",
      "src=[on a eu de la chance], target=[we got lucky], predicted=[it was too]\n",
      "src=[jai ete acquitte], target=[i was acquitted], predicted=[i was distracted]\n",
      "src=[ils se sont embrasses], target=[they kissed], predicted=[they embraced]\n",
      "BLEU-1: 57.63\n",
      "BLEU-2: 46.37\n",
      "BLEU-3: 39.45\n",
      "BLEU-4: 21.90\n"
     ]
    }
   ],
   "source": [
    "from pickle import load\n",
    "from numpy import array\n",
    "from numpy import argmax\n",
    "from keras.preprocessing.text import Tokenizer\n",
    "from keras.preprocessing.sequence import pad_sequences\n",
    "from keras.models import load_model\n",
    "from nltk.translate.bleu_score import corpus_bleu\n",
    "\n",
    "# load a clean dataset\n",
    "def load_clean_sentences(filename):\n",
    "\treturn load(open(filename, 'rb'))\n",
    "\n",
    "# fit a tokenizer\n",
    "def create_tokenizer(lines):\n",
    "\ttokenizer = Tokenizer()\n",
    "\ttokenizer.fit_on_texts(lines)\n",
    "\treturn tokenizer\n",
    "\n",
    "# max sentence length\n",
    "def max_length(lines):\n",
    "\treturn max(len(line.split()) for line in lines)\n",
    "\n",
    "# encode and pad sequences\n",
    "def encode_sequences(tokenizer, length, lines):\n",
    "\t# integer encode sequences\n",
    "\tX = tokenizer.texts_to_sequences(lines)\n",
    "\t# pad sequences with 0 values\n",
    "\tX = pad_sequences(X, maxlen=length, padding='post')\n",
    "\treturn X\n",
    "\n",
    "# map an integer to a word\n",
    "def word_for_id(integer, tokenizer):\n",
    "\tfor word, index in tokenizer.word_index.items():\n",
    "\t\tif index == integer:\n",
    "\t\t\treturn word\n",
    "\treturn None\n",
    "\n",
    "# generate target given source sequence\n",
    "def predict_sequence(model, tokenizer, source):\n",
    "\tprediction = model.predict(source, verbose=0)[0]\n",
    "\tintegers = [argmax(vector) for vector in prediction]\n",
    "\ttarget = list()\n",
    "\tfor i in integers:\n",
    "\t\tword = word_for_id(i, tokenizer)\n",
    "\t\tif word is None:\n",
    "\t\t\tbreak\n",
    "\t\ttarget.append(word)\n",
    "\treturn ' '.join(target)\n",
    "\n",
    "# evaluate the skill of the model\n",
    "def evaluate_model(model, tokenizer, sources, raw_dataset):\n",
    "\tactual, predicted = list(), list()\n",
    "\tfor i, source in enumerate(sources):\n",
    "\t\t# translate encoded source text\n",
    "\t\tsource = source.reshape((1, source.shape[0]))\n",
    "\t\ttranslation = predict_sequence(model, eng_tokenizer, source)\n",
    "\t\traw_target, raw_src = raw_dataset[i]\n",
    "\t\tif i < 10:\n",
    "\t\t\tprint('src=[%s], target=[%s], predicted=[%s]' % (raw_src, raw_target, translation))\n",
    "\t\tactual.append([raw_target.split()])\n",
    "\t\tpredicted.append(translation.split())\n",
    "\t# calculate BLEU score\n",
    "\tprint('BLEU-1: %.2f' % (100 * corpus_bleu(actual, predicted, weights=(1.0, 0, 0, 0))))\n",
    "\tprint('BLEU-2: %.2f' % (100 * corpus_bleu(actual, predicted, weights=(0.5, 0.5, 0, 0))))\n",
    "\tprint('BLEU-3: %.2f' % (100 * corpus_bleu(actual, predicted, weights=(0.3, 0.3, 0.3, 0))))\n",
    "\tprint('BLEU-4: %.2f' % (100 * corpus_bleu(actual, predicted, weights=(0.25, 0.25, 0.25, 0.25))))\n",
    "\n",
    "# load datasets\n",
    "dataset = load_clean_sentences('english-french-both.pkl')\n",
    "train = load_clean_sentences('english-french-train.pkl')\n",
    "test = load_clean_sentences('english-french-test.pkl')\n",
    "# prepare english tokenizer\n",
    "eng_tokenizer = create_tokenizer(dataset[:, 0])\n",
    "eng_vocab_size = len(eng_tokenizer.word_index) + 1\n",
    "eng_length = max_length(dataset[:, 0])\n",
    "# prepare german tokenizer\n",
    "ger_tokenizer = create_tokenizer(dataset[:, 1])\n",
    "ger_vocab_size = len(ger_tokenizer.word_index) + 1\n",
    "ger_length = max_length(dataset[:, 1])\n",
    "# prepare data\n",
    "trainX = encode_sequences(ger_tokenizer, ger_length, train[:, 1])\n",
    "testX = encode_sequences(ger_tokenizer, ger_length, test[:, 1])\n",
    "\n",
    "# load model\n",
    "model = load_model('model_french.h5')\n",
    "# test on some training sequences\n",
    "print('train')\n",
    "evaluate_model(model, eng_tokenizer, trainX, train)\n",
    "# test on some test sequences\n",
    "print('test')\n",
    "evaluate_model(model, eng_tokenizer, testX, test)"
   ]
  },
  {
   "cell_type": "code",
   "execution_count": null,
   "metadata": {},
   "outputs": [],
   "source": []
  }
 ],
 "metadata": {
  "kernelspec": {
   "display_name": "Python 3.8.5 64-bit",
   "language": "python",
   "name": "python38564bite321ebe832964b3ea761822ebe375c96"
  },
  "language_info": {
   "codemirror_mode": {
    "name": "ipython",
    "version": 3
   },
   "file_extension": ".py",
   "mimetype": "text/x-python",
   "name": "python",
   "nbconvert_exporter": "python",
   "pygments_lexer": "ipython3",
   "version": "3.8.5"
  }
 },
 "nbformat": 4,
 "nbformat_minor": 4
}
