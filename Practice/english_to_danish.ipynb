{
 "cells": [
  {
   "cell_type": "code",
   "execution_count": 1,
   "metadata": {},
   "outputs": [],
   "source": [
    "import string\n",
    "import re\n",
    "from pickle import dump\n",
    "from unicodedata import normalize\n",
    "from numpy import array\n",
    "from pickle import load\n",
    "from numpy.random import rand\n",
    "from numpy.random import shuffle\n",
    "from pickle import load\n",
    "from numpy import array\n",
    "from keras.preprocessing.text import Tokenizer\n",
    "from keras.preprocessing.sequence import pad_sequences\n",
    "from keras.utils import to_categorical\n",
    "from keras.utils.vis_utils import plot_model\n",
    "from keras.models import Sequential\n",
    "from keras.layers import LSTM\n",
    "from keras.layers import Dense\n",
    "from keras.layers import Embedding\n",
    "from keras.layers import RepeatVector\n",
    "from keras.layers import TimeDistributed\n",
    "from keras.callbacks import ModelCheckpoint"
   ]
  },
  {
   "cell_type": "code",
   "execution_count": 2,
   "metadata": {},
   "outputs": [],
   "source": [
    "\n",
    "def load_doc(filename):\n",
    "    # open the file as read only\n",
    "    file = open(filename, mode='rt', encoding='utf-8')\n",
    "    # read all text\n",
    "    text = file.read()\n",
    "    # close the file\n",
    "    file.close()\n",
    "    return text"
   ]
  },
  {
   "cell_type": "code",
   "execution_count": 3,
   "metadata": {},
   "outputs": [],
   "source": [
    "def to_pairs(doc):\n",
    "    lines = doc.strip().split('\\n')\n",
    "    pairs = [line.split('\\t') for line in  lines]\n",
    "    return pairs"
   ]
  },
  {
   "cell_type": "code",
   "execution_count": 4,
   "metadata": {},
   "outputs": [],
   "source": [
    "# clean a list of lines\n",
    "def clean_pairs(lines):\n",
    "    cleaned = list()\n",
    "    # prepare regex for char filtering\n",
    "    re_print = re.compile('[^%s]' % re.escape(string.printable))\n",
    "    # prepare translation table for removing punctuation\n",
    "    table = str.maketrans('', '', string.punctuation)\n",
    "    for pair in lines:\n",
    "        clean_pair = list()\n",
    "        for line in pair:\n",
    "            # normalize unicode characters\n",
    "            line = normalize('NFD', line).encode('ascii', 'ignore')\n",
    "            line = line.decode('UTF-8')\n",
    "            # tokenize on white space\n",
    "            line = line.split()\n",
    "            # convert to lowercase\n",
    "            line = [word.lower() for word in line]\n",
    "            # remove punctuation from each token\n",
    "            line = [word.translate(table) for word in line]\n",
    "            # remove non-printable chars form each token\n",
    "            line = [re_print.sub('', w) for w in line]\n",
    "            # remove tokens with numbers in them\n",
    "            line = [word for word in line if word.isalpha()]\n",
    "            # store as string\n",
    "            clean_pair.append(' '.join(line))\n",
    "        cleaned.append(clean_pair)\n",
    "    return array(cleaned)"
   ]
  },
  {
   "cell_type": "code",
   "execution_count": 5,
   "metadata": {},
   "outputs": [],
   "source": [
    "def save_clean_data(sentences, filename):\n",
    "    dump(sentences, open(filename, 'wb'))\n",
    "    print('Saved: %s' % filename)"
   ]
  },
  {
   "cell_type": "code",
   "execution_count": 6,
   "metadata": {},
   "outputs": [
    {
     "data": {
      "text/html": [
       "<div>\n",
       "<style scoped>\n",
       "    .dataframe tbody tr th:only-of-type {\n",
       "        vertical-align: middle;\n",
       "    }\n",
       "\n",
       "    .dataframe tbody tr th {\n",
       "        vertical-align: top;\n",
       "    }\n",
       "\n",
       "    .dataframe thead th {\n",
       "        text-align: right;\n",
       "    }\n",
       "</style>\n",
       "<table border=\"1\" class=\"dataframe\">\n",
       "  <thead>\n",
       "    <tr style=\"text-align: right;\">\n",
       "      <th></th>\n",
       "      <th>english</th>\n",
       "      <th>danish</th>\n",
       "      <th>description</th>\n",
       "    </tr>\n",
       "  </thead>\n",
       "  <tbody>\n",
       "    <tr>\n",
       "      <th>0</th>\n",
       "      <td>Go.</td>\n",
       "      <td>Gå!</td>\n",
       "      <td>CC-BY 2.0 (France) Attribution: tatoeba.org #2...</td>\n",
       "    </tr>\n",
       "    <tr>\n",
       "      <th>1</th>\n",
       "      <td>Hi.</td>\n",
       "      <td>Hej!</td>\n",
       "      <td>CC-BY 2.0 (France) Attribution: tatoeba.org #5...</td>\n",
       "    </tr>\n",
       "    <tr>\n",
       "      <th>2</th>\n",
       "      <td>Hi.</td>\n",
       "      <td>Hej.</td>\n",
       "      <td>CC-BY 2.0 (France) Attribution: tatoeba.org #5...</td>\n",
       "    </tr>\n",
       "    <tr>\n",
       "      <th>3</th>\n",
       "      <td>Run!</td>\n",
       "      <td>Løb!</td>\n",
       "      <td>CC-BY 2.0 (France) Attribution: tatoeba.org #9...</td>\n",
       "    </tr>\n",
       "    <tr>\n",
       "      <th>4</th>\n",
       "      <td>Run.</td>\n",
       "      <td>Løb!</td>\n",
       "      <td>CC-BY 2.0 (France) Attribution: tatoeba.org #4...</td>\n",
       "    </tr>\n",
       "  </tbody>\n",
       "</table>\n",
       "</div>"
      ],
      "text/plain": [
       "  english danish                                        description\n",
       "0     Go.    Gå!  CC-BY 2.0 (France) Attribution: tatoeba.org #2...\n",
       "1     Hi.   Hej!  CC-BY 2.0 (France) Attribution: tatoeba.org #5...\n",
       "2     Hi.   Hej.  CC-BY 2.0 (France) Attribution: tatoeba.org #5...\n",
       "3    Run!   Løb!  CC-BY 2.0 (France) Attribution: tatoeba.org #9...\n",
       "4    Run.   Løb!  CC-BY 2.0 (France) Attribution: tatoeba.org #4..."
      ]
     },
     "execution_count": 6,
     "metadata": {},
     "output_type": "execute_result"
    }
   ],
   "source": [
    "# load dataset\n",
    "filename = 'dataset/dan-eng/dan.txt'\n",
    "import pandas as pd\n",
    "data = pd.read_csv(filename,sep='\\t',header=None, names = ['english','danish','description'])\n",
    "data.head()"
   ]
  },
  {
   "cell_type": "code",
   "execution_count": 7,
   "metadata": {},
   "outputs": [],
   "source": [
    "final = data.copy()"
   ]
  },
  {
   "cell_type": "code",
   "execution_count": 8,
   "metadata": {},
   "outputs": [],
   "source": [
    "del final['description']"
   ]
  },
  {
   "cell_type": "code",
   "execution_count": 9,
   "metadata": {},
   "outputs": [],
   "source": [
    "listdata = final.values.tolist()"
   ]
  },
  {
   "cell_type": "code",
   "execution_count": 54,
   "metadata": {},
   "outputs": [
    {
     "ename": "ValueError",
     "evalue": "If using all scalar values, you must pass an index",
     "output_type": "error",
     "traceback": [
      "\u001b[0;31m---------------------------------------------------------------------------\u001b[0m",
      "\u001b[0;31mValueError\u001b[0m                                Traceback (most recent call last)",
      "\u001b[0;32m<ipython-input-54-db623125ec54>\u001b[0m in \u001b[0;36m<module>\u001b[0;34m\u001b[0m\n\u001b[1;32m      2\u001b[0m \u001b[0;34m'french'\u001b[0m\u001b[0;34m:\u001b[0m\u001b[0;34m'skrub af'\u001b[0m\u001b[0;34m\u001b[0m\u001b[0;34m\u001b[0m\u001b[0m\n\u001b[1;32m      3\u001b[0m }\n\u001b[0;32m----> 4\u001b[0;31m \u001b[0mdf\u001b[0m \u001b[0;34m=\u001b[0m \u001b[0mpd\u001b[0m\u001b[0;34m.\u001b[0m\u001b[0mDataFrame\u001b[0m\u001b[0;34m(\u001b[0m\u001b[0mdic\u001b[0m\u001b[0;34m,\u001b[0m\u001b[0mcolumns\u001b[0m\u001b[0;34m=\u001b[0m\u001b[0;34m[\u001b[0m\u001b[0;34m'french'\u001b[0m\u001b[0;34m]\u001b[0m\u001b[0;34m)\u001b[0m\u001b[0;34m\u001b[0m\u001b[0;34m\u001b[0m\u001b[0m\n\u001b[0m\u001b[1;32m      5\u001b[0m \u001b[0mdf\u001b[0m\u001b[0;34m\u001b[0m\u001b[0;34m\u001b[0m\u001b[0m\n",
      "\u001b[0;32m~/.local/lib/python3.8/site-packages/pandas/core/frame.py\u001b[0m in \u001b[0;36m__init__\u001b[0;34m(self, data, index, columns, dtype, copy)\u001b[0m\n\u001b[1;32m    527\u001b[0m \u001b[0;34m\u001b[0m\u001b[0m\n\u001b[1;32m    528\u001b[0m         \u001b[0;32melif\u001b[0m \u001b[0misinstance\u001b[0m\u001b[0;34m(\u001b[0m\u001b[0mdata\u001b[0m\u001b[0;34m,\u001b[0m \u001b[0mdict\u001b[0m\u001b[0;34m)\u001b[0m\u001b[0;34m:\u001b[0m\u001b[0;34m\u001b[0m\u001b[0;34m\u001b[0m\u001b[0m\n\u001b[0;32m--> 529\u001b[0;31m             \u001b[0mmgr\u001b[0m \u001b[0;34m=\u001b[0m \u001b[0minit_dict\u001b[0m\u001b[0;34m(\u001b[0m\u001b[0mdata\u001b[0m\u001b[0;34m,\u001b[0m \u001b[0mindex\u001b[0m\u001b[0;34m,\u001b[0m \u001b[0mcolumns\u001b[0m\u001b[0;34m,\u001b[0m \u001b[0mdtype\u001b[0m\u001b[0;34m=\u001b[0m\u001b[0mdtype\u001b[0m\u001b[0;34m)\u001b[0m\u001b[0;34m\u001b[0m\u001b[0;34m\u001b[0m\u001b[0m\n\u001b[0m\u001b[1;32m    530\u001b[0m         \u001b[0;32melif\u001b[0m \u001b[0misinstance\u001b[0m\u001b[0;34m(\u001b[0m\u001b[0mdata\u001b[0m\u001b[0;34m,\u001b[0m \u001b[0mma\u001b[0m\u001b[0;34m.\u001b[0m\u001b[0mMaskedArray\u001b[0m\u001b[0;34m)\u001b[0m\u001b[0;34m:\u001b[0m\u001b[0;34m\u001b[0m\u001b[0;34m\u001b[0m\u001b[0m\n\u001b[1;32m    531\u001b[0m             \u001b[0;32mimport\u001b[0m \u001b[0mnumpy\u001b[0m\u001b[0;34m.\u001b[0m\u001b[0mma\u001b[0m\u001b[0;34m.\u001b[0m\u001b[0mmrecords\u001b[0m \u001b[0;32mas\u001b[0m \u001b[0mmrecords\u001b[0m\u001b[0;34m\u001b[0m\u001b[0;34m\u001b[0m\u001b[0m\n",
      "\u001b[0;32m~/.local/lib/python3.8/site-packages/pandas/core/internals/construction.py\u001b[0m in \u001b[0;36minit_dict\u001b[0;34m(data, index, columns, dtype)\u001b[0m\n\u001b[1;32m    256\u001b[0m             \u001b[0;31m# GH10856\u001b[0m\u001b[0;34m\u001b[0m\u001b[0;34m\u001b[0m\u001b[0;34m\u001b[0m\u001b[0m\n\u001b[1;32m    257\u001b[0m             \u001b[0;31m# raise ValueError if only scalars in dict\u001b[0m\u001b[0;34m\u001b[0m\u001b[0;34m\u001b[0m\u001b[0;34m\u001b[0m\u001b[0m\n\u001b[0;32m--> 258\u001b[0;31m             \u001b[0mindex\u001b[0m \u001b[0;34m=\u001b[0m \u001b[0mextract_index\u001b[0m\u001b[0;34m(\u001b[0m\u001b[0marrays\u001b[0m\u001b[0;34m[\u001b[0m\u001b[0;34m~\u001b[0m\u001b[0mmissing\u001b[0m\u001b[0;34m]\u001b[0m\u001b[0;34m)\u001b[0m\u001b[0;34m\u001b[0m\u001b[0;34m\u001b[0m\u001b[0m\n\u001b[0m\u001b[1;32m    259\u001b[0m         \u001b[0;32melse\u001b[0m\u001b[0;34m:\u001b[0m\u001b[0;34m\u001b[0m\u001b[0;34m\u001b[0m\u001b[0m\n\u001b[1;32m    260\u001b[0m             \u001b[0mindex\u001b[0m \u001b[0;34m=\u001b[0m \u001b[0mensure_index\u001b[0m\u001b[0;34m(\u001b[0m\u001b[0mindex\u001b[0m\u001b[0;34m)\u001b[0m\u001b[0;34m\u001b[0m\u001b[0;34m\u001b[0m\u001b[0m\n",
      "\u001b[0;32m~/.local/lib/python3.8/site-packages/pandas/core/internals/construction.py\u001b[0m in \u001b[0;36mextract_index\u001b[0;34m(data)\u001b[0m\n\u001b[1;32m    389\u001b[0m \u001b[0;34m\u001b[0m\u001b[0m\n\u001b[1;32m    390\u001b[0m         \u001b[0;32mif\u001b[0m \u001b[0;32mnot\u001b[0m \u001b[0mindexes\u001b[0m \u001b[0;32mand\u001b[0m \u001b[0;32mnot\u001b[0m \u001b[0mraw_lengths\u001b[0m\u001b[0;34m:\u001b[0m\u001b[0;34m\u001b[0m\u001b[0;34m\u001b[0m\u001b[0m\n\u001b[0;32m--> 391\u001b[0;31m             \u001b[0;32mraise\u001b[0m \u001b[0mValueError\u001b[0m\u001b[0;34m(\u001b[0m\u001b[0;34m\"If using all scalar values, you must pass an index\"\u001b[0m\u001b[0;34m)\u001b[0m\u001b[0;34m\u001b[0m\u001b[0;34m\u001b[0m\u001b[0m\n\u001b[0m\u001b[1;32m    392\u001b[0m \u001b[0;34m\u001b[0m\u001b[0m\n\u001b[1;32m    393\u001b[0m         \u001b[0;32mif\u001b[0m \u001b[0mhave_series\u001b[0m\u001b[0;34m:\u001b[0m\u001b[0;34m\u001b[0m\u001b[0;34m\u001b[0m\u001b[0m\n",
      "\u001b[0;31mValueError\u001b[0m: If using all scalar values, you must pass an index"
     ]
    }
   ],
   "source": [
    "dic = {\n",
    "'french':'skrub af'   \n",
    "}\n",
    "df = pd.DataFrame(dic,columns=['french'])\n",
    "df"
   ]
  },
  {
   "cell_type": "code",
   "execution_count": 50,
   "metadata": {},
   "outputs": [],
   "source": [
    "dfdata = df.values.tolist()"
   ]
  },
  {
   "cell_type": "code",
   "execution_count": 52,
   "metadata": {},
   "outputs": [
    {
     "data": {
      "text/plain": [
       "[['skrub af']]"
      ]
     },
     "execution_count": 52,
     "metadata": {},
     "output_type": "execute_result"
    }
   ],
   "source": [
    "dfdata"
   ]
  },
  {
   "cell_type": "code",
   "execution_count": 53,
   "metadata": {},
   "outputs": [
    {
     "data": {
      "text/plain": [
       "[[\"I'll clean up.\", 'Jeg rydder op.'],\n",
       " [\"I'll go first.\", 'Jeg vil gå først.'],\n",
       " [\"I'll help you.\", 'Jeg vil hjælpe dig.'],\n",
       " [\"I'll help you.\", 'Jeg vil hjælpe jer.'],\n",
       " [\"I'll make tea.\", 'Jeg laver te.'],\n",
       " [\"I'll prove it.\", 'Jeg vil bevise det.'],\n",
       " [\"I'll take him.\", 'Jeg tager ham.'],\n",
       " [\"I'm Tom's dad.\", 'Jeg er Toms far.'],\n",
       " [\"I'm Tom's mom.\", 'Jeg er Toms mor.'],\n",
       " [\"I'm a man now.\", 'Jeg er en mand nu.']]"
      ]
     },
     "execution_count": 53,
     "metadata": {},
     "output_type": "execute_result"
    }
   ],
   "source": [
    "listdata[1000:1010]"
   ]
  },
  {
   "cell_type": "code",
   "execution_count": 11,
   "metadata": {},
   "outputs": [
    {
     "name": "stdout",
     "output_type": "stream",
     "text": [
      "Saved: english-danish.pkl\n",
      "[go] => [ga]\n",
      "[hi] => [hej]\n",
      "[hi] => [hej]\n",
      "[run] => [lb]\n",
      "[run] => [lb]\n",
      "[wow] => [wow]\n",
      "[fire] => [fyr]\n",
      "[fire] => [ildebrand]\n",
      "[help] => [hjlp]\n",
      "[jump] => [hop]\n",
      "[jump] => [spring]\n",
      "[jump] => [hop]\n",
      "[jump] => [spring]\n",
      "[stop] => [stop]\n",
      "[hello] => [hej]\n",
      "[hello] => [hej]\n",
      "[i see] => [jeg forstar]\n",
      "[i won] => [jeg vandt]\n",
      "[shoot] => [skyd]\n",
      "[attack] => [angrib]\n",
      "[cheers] => [skal]\n",
      "[go now] => [ga nu]\n",
      "[he ran] => [han lb]\n",
      "[hop in] => [hop ind]\n",
      "[i lied] => [jeg lj]\n",
      "[i lied] => [jeg har ljet]\n",
      "[i sang] => [jeg sang]\n",
      "[no way] => [aldrig i livet]\n",
      "[no way] => [ikke tale om]\n",
      "[no way] => [absolut ikke]\n",
      "[no way] => [under ingen omstndigheder]\n",
      "[no way] => [aldrig i verden]\n",
      "[no way] => [ikke pa vilkar]\n",
      "[no way] => [du kan tro nej]\n",
      "[no way] => [du kan bande pa nej]\n",
      "[no way] => [niksen biksen]\n",
      "[no way] => [nul putte]\n",
      "[no way] => [det kan du glemme alt om]\n",
      "[no way] => [pa ingen made]\n",
      "[no way] => [det er ikke muligt]\n",
      "[really] => [virkelig]\n",
      "[really] => [er det rigtigt]\n",
      "[really] => [ja sa]\n",
      "[really] => [nej virkelig]\n",
      "[really] => [sa]\n",
      "[thanks] => [tak]\n",
      "[thanks] => [mange tak]\n",
      "[thanks] => [tak]\n",
      "[why me] => [hvorfor mig]\n",
      "[ask tom] => [sprg tom]\n",
      "[ask tom] => [sprg tom]\n",
      "[ask him] => [sprg ham]\n",
      "[be fair] => [vr retfrdig]\n",
      "[be fair] => [vr fair]\n",
      "[call me] => [ring til mig]\n",
      "[come in] => [kom ind]\n",
      "[get tom] => [hent tom]\n",
      "[go away] => [ga vk]\n",
      "[go away] => [ga din vej]\n",
      "[go away] => [forsvind med dig]\n",
      "[go away] => [forsvind]\n",
      "[help me] => [hjlp mig]\n",
      "[help me] => [hjlp mig]\n",
      "[i agree] => [jeg er enig]\n",
      "[im shy] => [jeg er genert]\n",
      "[its me] => [det er mig]\n",
      "[keep it] => [behold det]\n",
      "[keep it] => [behold den]\n",
      "[kiss me] => [kys mig]\n",
      "[perfect] => [perfekt]\n",
      "[see you] => [pa gensyn]\n",
      "[see you] => [vi ses]\n",
      "[see you] => [vi ses]\n",
      "[see you] => [vi ses]\n",
      "[show me] => [vis mig]\n",
      "[shut up] => [hold mund]\n",
      "[shut up] => [ti stille]\n",
      "[shut up] => [klap i]\n",
      "[shut up] => [hold kft]\n",
      "[we lost] => [vi tabte]\n",
      "[we lost] => [vi har tabt]\n",
      "[welcome] => [velkommen]\n",
      "[welcome] => [velkommen]\n",
      "[you won] => [du vandt]\n",
      "[you won] => [du har vundet]\n",
      "[be quiet] => [vr stille]\n",
      "[be quiet] => [ti stille]\n",
      "[be still] => [vr stille]\n",
      "[be still] => [vr stille]\n",
      "[be still] => [vr rolig]\n",
      "[catch me] => [grib mig]\n",
      "[catch me] => [fang mig]\n",
      "[cheer up] => [op med humret]\n",
      "[drive on] => [kr videre]\n",
      "[get away] => [ga vk]\n",
      "[get lost] => [ga vk]\n",
      "[get lost] => [smut]\n",
      "[get lost] => [ga din vej]\n",
      "[get lost] => [skrid]\n",
      "[get lost] => [skrub af]\n"
     ]
    }
   ],
   "source": [
    "clean_pairs = clean_pairs(listdata)\n",
    "# save clean pairs to file\n",
    "save_clean_data(clean_pairs, 'english-danish.pkl')\n",
    "# spot check\n",
    "for i in range(100):\n",
    "    print('[%s] => [%s]' % (clean_pairs[i,0], clean_pairs[i,1]))"
   ]
  },
  {
   "cell_type": "code",
   "execution_count": 36,
   "metadata": {},
   "outputs": [
    {
     "data": {
      "text/plain": [
       "array(['tom blev pakrt af en lastbil', 'tom lo ikke',\n",
       "       'vi har ingen penge', 'jeg elsker at lse bger',\n",
       "       'jeg hader interviews'], dtype='<U140')"
      ]
     },
     "execution_count": 36,
     "metadata": {},
     "output_type": "execute_result"
    }
   ],
   "source": [
    "clean_pairs[:5,1]"
   ]
  },
  {
   "cell_type": "code",
   "execution_count": 12,
   "metadata": {},
   "outputs": [
    {
     "name": "stdout",
     "output_type": "stream",
     "text": [
      "Saved: english-danish-both.pkl\n",
      "Saved: english-danish-train.pkl\n",
      "Saved: english-danish-test.pkl\n"
     ]
    }
   ],
   "source": [
    "raw_dataset = clean_pairs\n",
    " \n",
    "# reduce dataset size\n",
    "n_sentences = 10000\n",
    "dataset = raw_dataset[:n_sentences, :]\n",
    "# random shuffle\n",
    "shuffle(dataset)\n",
    "# split into train/test\n",
    "train, test = dataset[:9000], dataset[9000:]\n",
    "# save\n",
    "save_clean_data(dataset, 'english-danish-both.pkl')\n",
    "save_clean_data(train, 'english-danish-train.pkl')\n",
    "save_clean_data(test, 'english-danish-test.pkl')"
   ]
  },
  {
   "cell_type": "code",
   "execution_count": 13,
   "metadata": {},
   "outputs": [
    {
     "data": {
      "text/plain": [
       "(21902, 2)"
      ]
     },
     "execution_count": 13,
     "metadata": {},
     "output_type": "execute_result"
    }
   ],
   "source": [
    "raw_dataset.shape"
   ]
  },
  {
   "cell_type": "code",
   "execution_count": 14,
   "metadata": {},
   "outputs": [],
   "source": [
    "def create_tokenizer(lines):\n",
    "    tokenizer = Tokenizer()\n",
    "    tokenizer.fit_on_texts(lines)\n",
    "    return tokenizer\n"
   ]
  },
  {
   "cell_type": "code",
   "execution_count": 15,
   "metadata": {},
   "outputs": [],
   "source": [
    "def max_length(lines):\n",
    "    return max(len(line.split()) for line in lines)"
   ]
  },
  {
   "cell_type": "code",
   "execution_count": 16,
   "metadata": {},
   "outputs": [],
   "source": [
    "from keras.preprocessing.text import Tokenizer"
   ]
  },
  {
   "cell_type": "code",
   "execution_count": 17,
   "metadata": {},
   "outputs": [
    {
     "name": "stdout",
     "output_type": "stream",
     "text": [
      "English Vocabulary Size: 3286\n",
      "English Max Length: 8\n",
      "french Vocabulary Size: 4239\n",
      "french Max Length: 11\n"
     ]
    }
   ],
   "source": [
    "eng_tokenizer = create_tokenizer(dataset[:, 0])\n",
    "eng_vocab_size = len(eng_tokenizer.word_index) + 1\n",
    "eng_length = max_length(dataset[:, 0])\n",
    "print('English Vocabulary Size: %d' % eng_vocab_size)\n",
    "print('English Max Length: %d' % (eng_length))\n",
    "# prepare german tokenizer\n",
    "ger_tokenizer = create_tokenizer(dataset[:, 1])\n",
    "ger_vocab_size = len(ger_tokenizer.word_index) + 1\n",
    "ger_length = max_length(dataset[:, 1])\n",
    "print('french Vocabulary Size: %d' % ger_vocab_size)\n",
    "print('french Max Length: %d' % (ger_length))"
   ]
  },
  {
   "cell_type": "code",
   "execution_count": 18,
   "metadata": {},
   "outputs": [],
   "source": [
    "def encode_sequences(tokenizer, length, lines):\n",
    "    # integer encode sequences\n",
    "    X = tokenizer.texts_to_sequences(lines)\n",
    "    # pad sequences with 0 values\n",
    "    X = pad_sequences(X, maxlen=length, padding='post')\n",
    "    return X"
   ]
  },
  {
   "cell_type": "code",
   "execution_count": 19,
   "metadata": {},
   "outputs": [],
   "source": [
    "from tensorflow.keras.utils import to_categorical"
   ]
  },
  {
   "cell_type": "code",
   "execution_count": 20,
   "metadata": {},
   "outputs": [],
   "source": [
    "def encode_output(sequences, vocab_size):\n",
    "    ylist = list()\n",
    "    for sequence in sequences:\n",
    "        encoded = to_categorical(sequence, num_classes=vocab_size)\n",
    "        ylist.append(encoded)\n",
    "    y = array(ylist)\n",
    "    y = y.reshape(sequences.shape[0], sequences.shape[1], vocab_size)\n",
    "    return y"
   ]
  },
  {
   "cell_type": "code",
   "execution_count": 21,
   "metadata": {},
   "outputs": [],
   "source": [
    "# prepare training data\n",
    "trainX = encode_sequences(ger_tokenizer, ger_length, train[:, 1])\n",
    "trainY = encode_sequences(eng_tokenizer, eng_length, train[:, 0])\n",
    "trainY = encode_output(trainY, eng_vocab_size)\n",
    "# prepare validation data\n",
    "testX = encode_sequences(ger_tokenizer, ger_length, test[:, 1])\n",
    "testY = encode_sequences(eng_tokenizer, eng_length, test[:, 0])\n",
    "testY = encode_output(testY, eng_vocab_size)"
   ]
  },
  {
   "cell_type": "code",
   "execution_count": 22,
   "metadata": {},
   "outputs": [
    {
     "data": {
      "text/plain": [
       "array([ 5,  6, 61, 15, 78,  0,  0,  0,  0,  0,  0], dtype=int32)"
      ]
     },
     "execution_count": 22,
     "metadata": {},
     "output_type": "execute_result"
    }
   ],
   "source": [
    "trainX[10,:]"
   ]
  },
  {
   "cell_type": "code",
   "execution_count": 23,
   "metadata": {},
   "outputs": [],
   "source": [
    "def define_model(src_vocab, tar_vocab, src_timesteps, tar_timesteps, n_units):\n",
    "    model = Sequential()\n",
    "    model.add(Embedding(src_vocab, n_units, input_length=src_timesteps, mask_zero=True))\n",
    "    model.add(LSTM(n_units))\n",
    "    model.add(RepeatVector(tar_timesteps))\n",
    "    model.add(LSTM(n_units, return_sequences=True))\n",
    "    model.add(TimeDistributed(Dense(tar_vocab, activation='softmax')))\n",
    "    return model"
   ]
  },
  {
   "cell_type": "code",
   "execution_count": 24,
   "metadata": {},
   "outputs": [],
   "source": [
    "model = define_model(ger_vocab_size, eng_vocab_size, ger_length, eng_length, 256)\n",
    "model.compile(optimizer='adam', loss='categorical_crossentropy')\n",
    "\n",
    "# summarize defined model"
   ]
  },
  {
   "cell_type": "code",
   "execution_count": 25,
   "metadata": {},
   "outputs": [
    {
     "name": "stdout",
     "output_type": "stream",
     "text": [
      "Model: \"sequential\"\n",
      "_________________________________________________________________\n",
      "Layer (type)                 Output Shape              Param #   \n",
      "=================================================================\n",
      "embedding (Embedding)        (None, 11, 256)           1085184   \n",
      "_________________________________________________________________\n",
      "lstm (LSTM)                  (None, 256)               525312    \n",
      "_________________________________________________________________\n",
      "repeat_vector (RepeatVector) (None, 8, 256)            0         \n",
      "_________________________________________________________________\n",
      "lstm_1 (LSTM)                (None, 8, 256)            525312    \n",
      "_________________________________________________________________\n",
      "time_distributed (TimeDistri (None, 8, 3286)           844502    \n",
      "=================================================================\n",
      "Total params: 2,980,310\n",
      "Trainable params: 2,980,310\n",
      "Non-trainable params: 0\n",
      "_________________________________________________________________\n",
      "None\n"
     ]
    }
   ],
   "source": [
    "print(model.summary())"
   ]
  },
  {
   "cell_type": "code",
   "execution_count": 26,
   "metadata": {},
   "outputs": [
    {
     "data": {
      "image/png": "[encoded data removed]",
      "text/plain": [
       "<IPython.core.display.Image object>"
      ]
     },
     "execution_count": 26,
     "metadata": {},
     "output_type": "execute_result"
    }
   ],
   "source": [
    "plot_model(model, to_file='danish_model.png', show_shapes=True)"
   ]
  },
  {
   "cell_type": "code",
   "execution_count": 27,
   "metadata": {},
   "outputs": [
    {
     "name": "stdout",
     "output_type": "stream",
     "text": [
      "Epoch 1/50\n",
      "\n",
      "Epoch 00001: val_loss improved from inf to 3.31841, saving model to danish_model.h5\n",
      "141/141 - 13s - loss: 4.0334 - val_loss: 3.3184\n",
      "Epoch 2/50\n",
      "\n",
      "Epoch 00002: val_loss improved from 3.31841 to 3.16859, saving model to danish_model.h5\n",
      "141/141 - 13s - loss: 3.1660 - val_loss: 3.1686\n",
      "Epoch 3/50\n",
      "\n",
      "Epoch 00003: val_loss improved from 3.16859 to 3.11820, saving model to danish_model.h5\n",
      "141/141 - 13s - loss: 3.0566 - val_loss: 3.1182\n",
      "Epoch 4/50\n",
      "\n",
      "Epoch 00004: val_loss improved from 3.11820 to 3.08934, saving model to danish_model.h5\n",
      "141/141 - 13s - loss: 2.9794 - val_loss: 3.0893\n",
      "Epoch 5/50\n",
      "\n",
      "Epoch 00005: val_loss improved from 3.08934 to 3.03989, saving model to danish_model.h5\n",
      "141/141 - 13s - loss: 2.9185 - val_loss: 3.0399\n",
      "Epoch 6/50\n",
      "\n",
      "Epoch 00006: val_loss improved from 3.03989 to 2.98260, saving model to danish_model.h5\n",
      "141/141 - 13s - loss: 2.8371 - val_loss: 2.9826\n",
      "Epoch 7/50\n",
      "\n",
      "Epoch 00007: val_loss improved from 2.98260 to 2.91937, saving model to danish_model.h5\n",
      "141/141 - 13s - loss: 2.7510 - val_loss: 2.9194\n",
      "Epoch 8/50\n",
      "\n",
      "Epoch 00008: val_loss improved from 2.91937 to 2.85985, saving model to danish_model.h5\n",
      "141/141 - 13s - loss: 2.6653 - val_loss: 2.8599\n",
      "Epoch 9/50\n",
      "\n",
      "Epoch 00009: val_loss improved from 2.85985 to 2.79476, saving model to danish_model.h5\n",
      "141/141 - 13s - loss: 2.5705 - val_loss: 2.7948\n",
      "Epoch 10/50\n",
      "\n",
      "Epoch 00010: val_loss improved from 2.79476 to 2.71508, saving model to danish_model.h5\n",
      "141/141 - 13s - loss: 2.4684 - val_loss: 2.7151\n",
      "Epoch 11/50\n",
      "\n",
      "Epoch 00011: val_loss improved from 2.71508 to 2.64009, saving model to danish_model.h5\n",
      "141/141 - 12s - loss: 2.3621 - val_loss: 2.6401\n",
      "Epoch 12/50\n",
      "\n",
      "Epoch 00012: val_loss improved from 2.64009 to 2.56913, saving model to danish_model.h5\n",
      "141/141 - 13s - loss: 2.2448 - val_loss: 2.5691\n",
      "Epoch 13/50\n",
      "\n",
      "Epoch 00013: val_loss improved from 2.56913 to 2.50643, saving model to danish_model.h5\n",
      "141/141 - 13s - loss: 2.1328 - val_loss: 2.5064\n",
      "Epoch 14/50\n",
      "\n",
      "Epoch 00014: val_loss improved from 2.50643 to 2.44535, saving model to danish_model.h5\n",
      "141/141 - 13s - loss: 2.0216 - val_loss: 2.4454\n",
      "Epoch 15/50\n",
      "\n",
      "Epoch 00015: val_loss improved from 2.44535 to 2.40044, saving model to danish_model.h5\n",
      "141/141 - 13s - loss: 1.9195 - val_loss: 2.4004\n",
      "Epoch 16/50\n",
      "\n",
      "Epoch 00016: val_loss improved from 2.40044 to 2.34976, saving model to danish_model.h5\n",
      "141/141 - 13s - loss: 1.8184 - val_loss: 2.3498\n",
      "Epoch 17/50\n",
      "\n",
      "Epoch 00017: val_loss improved from 2.34976 to 2.31112, saving model to danish_model.h5\n",
      "141/141 - 13s - loss: 1.7208 - val_loss: 2.3111\n",
      "Epoch 18/50\n",
      "\n",
      "Epoch 00018: val_loss improved from 2.31112 to 2.27813, saving model to danish_model.h5\n",
      "141/141 - 13s - loss: 1.6282 - val_loss: 2.2781\n",
      "Epoch 19/50\n",
      "\n",
      "Epoch 00019: val_loss improved from 2.27813 to 2.24691, saving model to danish_model.h5\n",
      "141/141 - 13s - loss: 1.5337 - val_loss: 2.2469\n",
      "Epoch 20/50\n",
      "\n",
      "Epoch 00020: val_loss improved from 2.24691 to 2.21402, saving model to danish_model.h5\n",
      "141/141 - 13s - loss: 1.4463 - val_loss: 2.2140\n",
      "Epoch 21/50\n",
      "\n",
      "Epoch 00021: val_loss improved from 2.21402 to 2.18160, saving model to danish_model.h5\n",
      "141/141 - 13s - loss: 1.3598 - val_loss: 2.1816\n",
      "Epoch 22/50\n",
      "\n",
      "Epoch 00022: val_loss improved from 2.18160 to 2.14750, saving model to danish_model.h5\n",
      "141/141 - 13s - loss: 1.2730 - val_loss: 2.1475\n",
      "Epoch 23/50\n",
      "\n",
      "Epoch 00023: val_loss improved from 2.14750 to 2.13607, saving model to danish_model.h5\n",
      "141/141 - 13s - loss: 1.1945 - val_loss: 2.1361\n",
      "Epoch 24/50\n",
      "\n",
      "Epoch 00024: val_loss improved from 2.13607 to 2.09399, saving model to danish_model.h5\n",
      "141/141 - 13s - loss: 1.1169 - val_loss: 2.0940\n",
      "Epoch 25/50\n",
      "\n",
      "Epoch 00025: val_loss improved from 2.09399 to 2.06856, saving model to danish_model.h5\n",
      "141/141 - 13s - loss: 1.0441 - val_loss: 2.0686\n",
      "Epoch 26/50\n",
      "\n",
      "Epoch 00026: val_loss improved from 2.06856 to 2.05078, saving model to danish_model.h5\n",
      "141/141 - 13s - loss: 0.9744 - val_loss: 2.0508\n",
      "Epoch 27/50\n",
      "\n",
      "Epoch 00027: val_loss improved from 2.05078 to 2.04503, saving model to danish_model.h5\n",
      "141/141 - 13s - loss: 0.9056 - val_loss: 2.0450\n",
      "Epoch 28/50\n",
      "\n",
      "Epoch 00028: val_loss improved from 2.04503 to 2.01598, saving model to danish_model.h5\n",
      "141/141 - 13s - loss: 0.8464 - val_loss: 2.0160\n",
      "Epoch 29/50\n",
      "\n",
      "Epoch 00029: val_loss improved from 2.01598 to 2.01004, saving model to danish_model.h5\n",
      "141/141 - 13s - loss: 0.7855 - val_loss: 2.0100\n",
      "Epoch 30/50\n",
      "\n",
      "Epoch 00030: val_loss did not improve from 2.01004\n",
      "141/141 - 13s - loss: 0.7293 - val_loss: 2.0117\n",
      "Epoch 31/50\n",
      "\n",
      "Epoch 00031: val_loss improved from 2.01004 to 2.00118, saving model to danish_model.h5\n",
      "141/141 - 13s - loss: 0.6796 - val_loss: 2.0012\n",
      "Epoch 32/50\n",
      "\n",
      "Epoch 00032: val_loss improved from 2.00118 to 1.98892, saving model to danish_model.h5\n",
      "141/141 - 14s - loss: 0.6335 - val_loss: 1.9889\n",
      "Epoch 33/50\n",
      "\n",
      "Epoch 00033: val_loss improved from 1.98892 to 1.98798, saving model to danish_model.h5\n",
      "141/141 - 13s - loss: 0.5866 - val_loss: 1.9880\n",
      "Epoch 34/50\n",
      "\n",
      "Epoch 00034: val_loss improved from 1.98798 to 1.97745, saving model to danish_model.h5\n",
      "141/141 - 14s - loss: 0.5445 - val_loss: 1.9775\n",
      "Epoch 35/50\n",
      "\n",
      "Epoch 00035: val_loss did not improve from 1.97745\n",
      "141/141 - 13s - loss: 0.5057 - val_loss: 1.9792\n",
      "Epoch 36/50\n",
      "\n",
      "Epoch 00036: val_loss did not improve from 1.97745\n",
      "141/141 - 13s - loss: 0.4732 - val_loss: 1.9892\n",
      "Epoch 37/50\n",
      "\n",
      "Epoch 00037: val_loss did not improve from 1.97745\n",
      "141/141 - 12s - loss: 0.4388 - val_loss: 1.9845\n",
      "Epoch 38/50\n",
      "\n",
      "Epoch 00038: val_loss did not improve from 1.97745\n",
      "141/141 - 12s - loss: 0.4094 - val_loss: 1.9783\n",
      "Epoch 39/50\n",
      "\n",
      "Epoch 00039: val_loss did not improve from 1.97745\n",
      "141/141 - 12s - loss: 0.3791 - val_loss: 1.9790\n",
      "Epoch 40/50\n",
      "\n",
      "Epoch 00040: val_loss improved from 1.97745 to 1.97697, saving model to danish_model.h5\n",
      "141/141 - 13s - loss: 0.3546 - val_loss: 1.9770\n",
      "Epoch 41/50\n",
      "\n",
      "Epoch 00041: val_loss improved from 1.97697 to 1.97642, saving model to danish_model.h5\n",
      "141/141 - 13s - loss: 0.3312 - val_loss: 1.9764\n",
      "Epoch 42/50\n",
      "\n",
      "Epoch 00042: val_loss did not improve from 1.97642\n",
      "141/141 - 12s - loss: 0.3074 - val_loss: 1.9940\n",
      "Epoch 43/50\n",
      "\n",
      "Epoch 00043: val_loss did not improve from 1.97642\n",
      "141/141 - 12s - loss: 0.2859 - val_loss: 1.9892\n",
      "Epoch 44/50\n",
      "\n",
      "Epoch 00044: val_loss did not improve from 1.97642\n",
      "141/141 - 12s - loss: 0.2687 - val_loss: 1.9857\n",
      "Epoch 45/50\n",
      "\n",
      "Epoch 00045: val_loss did not improve from 1.97642\n",
      "141/141 - 12s - loss: 0.2517 - val_loss: 1.9890\n",
      "Epoch 46/50\n",
      "\n",
      "Epoch 00046: val_loss did not improve from 1.97642\n",
      "141/141 - 12s - loss: 0.2362 - val_loss: 1.9908\n",
      "Epoch 47/50\n",
      "\n",
      "Epoch 00047: val_loss did not improve from 1.97642\n",
      "141/141 - 12s - loss: 0.2196 - val_loss: 2.0020\n",
      "Epoch 48/50\n",
      "\n",
      "Epoch 00048: val_loss did not improve from 1.97642\n",
      "141/141 - 12s - loss: 0.2059 - val_loss: 2.0012\n",
      "Epoch 49/50\n",
      "\n",
      "Epoch 00049: val_loss did not improve from 1.97642\n",
      "141/141 - 13s - loss: 0.1915 - val_loss: 2.0155\n",
      "Epoch 50/50\n",
      "\n",
      "Epoch 00050: val_loss did not improve from 1.97642\n",
      "141/141 - 13s - loss: 0.1826 - val_loss: 2.0212\n"
     ]
    }
   ],
   "source": [
    "filename = 'danish_model.h5'\n",
    "checkpoint = ModelCheckpoint(filename, monitor='val_loss', verbose=1, save_best_only=True, mode='min')\n",
    "history = model.fit(trainX, trainY, epochs=50, batch_size=64, validation_data=(testX, testY), callbacks=[checkpoint], verbose=2)"
   ]
  },
  {
   "cell_type": "code",
   "execution_count": 28,
   "metadata": {},
   "outputs": [
    {
     "data": {
      "text/plain": [
       "dict_keys(['loss', 'val_loss'])"
      ]
     },
     "execution_count": 28,
     "metadata": {},
     "output_type": "execute_result"
    }
   ],
   "source": [
    "history.history.keys()"
   ]
  },
  {
   "cell_type": "code",
   "execution_count": 29,
   "metadata": {},
   "outputs": [
    {
     "data": {
      "image/png": "[encoded data removed]",
      "text/plain": [
       "<Figure size 432x288 with 1 Axes>"
      ]
     },
     "metadata": {
      "needs_background": "light"
     },
     "output_type": "display_data"
    }
   ],
   "source": [
    "import matplotlib.pyplot as plt\n",
    "plt.plot(history.history['loss'])\n",
    "plt.plot(history.history['val_loss'])\n",
    "plt.title('model loss')\n",
    "plt.ylabel('loss')\n",
    "plt.xlabel('epoch')\n",
    "plt.legend(['train', 'test'], loc='upper left')\n",
    "plt.show()\n"
   ]
  },
  {
   "cell_type": "code",
   "execution_count": 57,
   "metadata": {},
   "outputs": [
    {
     "name": "stdout",
     "output_type": "stream",
     "text": [
      "train\n",
      "src=[tom blev pakrt af en lastbil], target=[tom got hit by a truck], predicted=[tom had a much]\n",
      "src=[tom lo ikke], target=[tom didnt laugh], predicted=[tom isnt woman]\n",
      "src=[vi har ingen penge], target=[we have no money], predicted=[we have have the]\n",
      "src=[jeg elsker at lse bger], target=[i love reading books], predicted=[i love made bet]\n",
      "src=[jeg hader interviews], target=[i hate interviews], predicted=[i hope your]\n",
      "src=[han kunne ikke lide at vre fattig], target=[he didnt like being poor], predicted=[he was let his did]\n",
      "src=[tal aldrig med fremmede], target=[never talk to strangers], predicted=[the would nightingale the drinks]\n",
      "src=[han fangede kyllingen], target=[he caught the chicken], predicted=[he illegal played sympathize]\n",
      "src=[vask skeerne], target=[wash the spoons], predicted=[shy jail looking]\n",
      "src=[jeg har ikke en tatovering], target=[i dont have a tattoo], predicted=[i dont have nothing the dogs]\n",
      "BLEU-1: 31.85\n",
      "BLEU-2: 18.72\n",
      "BLEU-3: 14.30\n",
      "BLEU-4: 6.62\n",
      "test\n",
      "src=[tom grinede], target=[tom was laughing], predicted=[tom dessert]\n",
      "src=[tom er sandsynligvis sulten], target=[tom is probably hungry], predicted=[tom is a share]\n",
      "src=[lyt ikke til hende], target=[dont listen to her], predicted=[they wont to me]\n",
      "src=[har du smurt dig ind i solcreme], target=[have you put on sunscreen], predicted=[have you here here louder]\n",
      "src=[lyver du over for mig], target=[are you lying to me], predicted=[look you with for me]\n",
      "src=[det har vret en god dag], target=[its been a good day], predicted=[its been a good day]\n",
      "src=[jeg tror det], target=[i think so], predicted=[i think that]\n",
      "src=[det er ikke kun til pynt], target=[it isnt just for show], predicted=[it not not a elevator]\n",
      "src=[hvem ellers har du fortalt det til], target=[who else did you tell], predicted=[gift everybody do do tell]\n",
      "src=[det kan vente til i morgen], target=[it can wait until morning], predicted=[you can im its wrong]\n",
      "BLEU-1: 31.87\n",
      "BLEU-2: 19.15\n",
      "BLEU-3: 14.78\n",
      "BLEU-4: 6.58\n"
     ]
    }
   ],
   "source": [
    "from pickle import load\n",
    "from numpy import array\n",
    "from numpy import argmax\n",
    "from keras.preprocessing.text import Tokenizer\n",
    "from keras.preprocessing.sequence import pad_sequences\n",
    "from keras.models import load_model\n",
    "from nltk.translate.bleu_score import corpus_bleu\n",
    "\n",
    "# load a clean dataset\n",
    "def load_clean_sentences(filename):\n",
    "\treturn load(open(filename, 'rb'))\n",
    "\n",
    "# fit a tokenizer\n",
    "def create_tokenizer(lines):\n",
    "\ttokenizer = Tokenizer()\n",
    "\ttokenizer.fit_on_texts(lines)\n",
    "\treturn tokenizer\n",
    "\n",
    "# max sentence length\n",
    "def max_length(lines):\n",
    "\treturn max(len(line.split()) for line in lines)\n",
    "\n",
    "# encode and pad sequences\n",
    "def encode_sequences(tokenizer, length, lines):\n",
    "\t# integer encode sequences\n",
    "\tX = tokenizer.texts_to_sequences(lines)\n",
    "\t# pad sequences with 0 values\n",
    "\tX = pad_sequences(X, maxlen=length, padding='post')\n",
    "\treturn X\n",
    "\n",
    "# map an integer to a word\n",
    "def word_for_id(integer, tokenizer):\n",
    "\tfor word, index in tokenizer.word_index.items():\n",
    "\t\tif index == integer:\n",
    "\t\t\treturn word\n",
    "\treturn None\n",
    "\n",
    "# generate target given source sequence\n",
    "def predict_sequence(model, tokenizer, source):\n",
    "\tprediction = model.predict(source, verbose=0)[0]\n",
    "\tintegers = [argmax(vector) for vector in prediction]\n",
    "\ttarget = list()\n",
    "\tfor i in integers:\n",
    "\t\tword = word_for_id(i, tokenizer)\n",
    "\t\tif word is None:\n",
    "\t\t\tbreak\n",
    "\t\ttarget.append(word)\n",
    "\treturn ' '.join(target)\n",
    "\n",
    "# evaluate the skill of the model\n",
    "def evaluate_model(model, tokenizer, sources, raw_dataset):\n",
    "\tactual, predicted = list(), list()\n",
    "\tfor i, source in enumerate(sources):\n",
    "\t\t# translate encoded source text\n",
    "\t\tsource = source.reshape((1, source.shape[0]))\n",
    "\t\ttranslation = predict_sequence(model, eng_tokenizer, source)\n",
    "\t\traw_target, raw_src = raw_dataset[i]\n",
    "\t\tif i < 10:\n",
    "\t\t\tprint('src=[%s], target=[%s], predicted=[%s]' % (raw_src, raw_target, translation))\n",
    "\t\tactual.append([raw_target.split()])\n",
    "\t\tpredicted.append(translation.split())\n",
    "\t# calculate BLEU score\n",
    "\tprint('BLEU-1: %.2f' % (100 * corpus_bleu(actual, predicted, weights=(1.0, 0, 0, 0))))\n",
    "\tprint('BLEU-2: %.2f' % (100 * corpus_bleu(actual, predicted, weights=(0.5, 0.5, 0, 0))))\n",
    "\tprint('BLEU-3: %.2f' % (100 * corpus_bleu(actual, predicted, weights=(0.3, 0.3, 0.3, 0))))\n",
    "\tprint('BLEU-4: %.2f' % (100 * corpus_bleu(actual, predicted, weights=(0.25, 0.25, 0.25, 0.25))))\n",
    "\n",
    "# load datasets\n",
    "dataset = load_clean_sentences('english-danish-both.pkl')\n",
    "train = load_clean_sentences('english-danish-train.pkl')\n",
    "test = load_clean_sentences('english-danish-test.pkl')\n",
    "# prepare english tokenizer\n",
    "eng_tokenizer = create_tokenizer(dataset[:, 0])\n",
    "eng_vocab_size = len(eng_tokenizer.word_index) + 1\n",
    "eng_length = max_length(dataset[:, 0])\n",
    "# prepare german tokenizer\n",
    "ger_tokenizer = create_tokenizer(dataset[:, 1])\n",
    "ger_vocab_size = len(ger_tokenizer.word_index) + 1\n",
    "ger_length = max_length(dataset[:, 1])\n",
    "# prepare data\n",
    "trainX = encode_sequences(ger_tokenizer, ger_length, train[:, 1])\n",
    "testX = encode_sequences(ger_tokenizer, ger_length, test[:, 1])\n",
    "\n",
    "# load model\n",
    "model = load_model('model.h5')\n",
    "# test on some training sequences\n",
    "print('train')\n",
    "evaluate_model(model, eng_tokenizer, trainX, train)\n",
    "# test on some test sequences\n",
    "print('test')\n",
    "evaluate_model(model, eng_tokenizer, testX, test)"
   ]
  },
  {
   "cell_type": "code",
   "execution_count": null,
   "metadata": {},
   "outputs": [],
   "source": []
  }
 ],
 "metadata": {
  "kernelspec": {
   "display_name": "Python 3.8.5 64-bit",
   "language": "python",
   "name": "python38564bite321ebe832964b3ea761822ebe375c96"
  },
  "language_info": {
   "codemirror_mode": {
    "name": "ipython",
    "version": 3
   },
   "file_extension": ".py",
   "mimetype": "text/x-python",
   "name": "python",
   "nbconvert_exporter": "python",
   "pygments_lexer": "ipython3",
   "version": "3.8.5"
  }
 },
 "nbformat": 4,
 "nbformat_minor": 4
}
